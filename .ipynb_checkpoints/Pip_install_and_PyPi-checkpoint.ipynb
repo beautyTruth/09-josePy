{
 "cells": [
  {
   "cell_type": "code",
   "execution_count": 1,
   "id": "07d7041a",
   "metadata": {},
   "outputs": [
    {
     "name": "stdout",
     "output_type": "stream",
     "text": [
      "Maybe this will work and maybe it won't\n"
     ]
    }
   ],
   "source": [
    "from colorama import init\n",
    "init()\n",
    "from colorama import Fore\n",
    "print(Fore.RED + \"Maybe this will work and maybe it won't\")"
   ]
  },
  {
   "cell_type": "code",
   "execution_count": 3,
   "id": "587a287a",
   "metadata": {},
   "outputs": [
    {
     "name": "stdout",
     "output_type": "stream",
     "text": [
      "It didn't work\n"
     ]
    }
   ],
   "source": [
    "forgettable = print(\"It didn't work\")"
   ]
  },
  {
   "cell_type": "code",
   "execution_count": 4,
   "id": "a25cb9fa",
   "metadata": {},
   "outputs": [],
   "source": [
    "forgettable"
   ]
  },
  {
   "cell_type": "code",
   "execution_count": 5,
   "id": "162866c4",
   "metadata": {},
   "outputs": [
    {
     "name": "stdout",
     "output_type": "stream",
     "text": [
      "None\n"
     ]
    }
   ],
   "source": [
    "print(forgettable)"
   ]
  },
  {
   "cell_type": "code",
   "execution_count": 6,
   "id": "491d6518",
   "metadata": {},
   "outputs": [],
   "source": [
    "def forgettable():\n",
    "    \n",
    "    print(\"This part of the journey will be forgettable if I don't follow it up \\nwith numerous practice projects with many use cases\")"
   ]
  },
  {
   "cell_type": "code",
   "execution_count": 7,
   "id": "6a19833d",
   "metadata": {},
   "outputs": [
    {
     "name": "stdout",
     "output_type": "stream",
     "text": [
      "This part of the journey will be forgettable if I don't follow it up \n",
      "with numerous practice projects with many use cases\n"
     ]
    }
   ],
   "source": [
    "forgettable()"
   ]
  },
  {
   "cell_type": "code",
   "execution_count": null,
   "id": "3f137122",
   "metadata": {},
   "outputs": [],
   "source": []
  }
 ],
 "metadata": {
  "kernelspec": {
   "display_name": "Python 3 (ipykernel)",
   "language": "python",
   "name": "python3"
  },
  "language_info": {
   "codemirror_mode": {
    "name": "ipython",
    "version": 3
   },
   "file_extension": ".py",
   "mimetype": "text/x-python",
   "name": "python",
   "nbconvert_exporter": "python",
   "pygments_lexer": "ipython3",
   "version": "3.11.3"
  }
 },
 "nbformat": 4,
 "nbformat_minor": 5
}
